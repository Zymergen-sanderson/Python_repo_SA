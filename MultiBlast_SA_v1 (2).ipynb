{
 "cells": [
  {
   "cell_type": "code",
   "execution_count": null,
   "metadata": {},
   "outputs": [],
   "source": [
    "# Perform MultiBlast and Find Shared Contigs\n",
    "# __Objective__ : The objective of this notebook is to enable blasting multiple sequences which are preseumed to co-locate in a biosynthetig gene cluster (BSG) and then find contigs which intersect multiple blast results, demonstrating a BSG is likely to exist in that cluster, and improve confidence these genes perform the desired activity, enabling their use in HMM building and gene diversity searches or directly in pathway design.\n",
    "# __Context:__ Many of the pathways we desire to investigate within ZED exist within biosynthetic gene clusters.  While tools like Antismash and others exist for the investigation of BSG's some limitations arise (List them?).  \n",
    "# In select cases, BSG's can be discovered/explored by looking for contigs that contain a number of desired functionalities in close proximity.  When this occurs, we have increased confidence that these genes work together within that cluster, and thus have the desired activity, versus genes which are unclustered and may perform similar, but distinct, activities.\n",
    "# __Steps__\n",
    "#    1. Load necessary dependencies\n",
    "#    2. Load the blast query file and make the API call to NCBI\n",
    "#    3. Parse the results from blast\n",
    "# __Notes__\n",
    "#    Much of the base code was taken from this tutorial to enable access to NCBI: https://www.tutorialspoint.com/biopython/biopython_overview_of_blast.htm\n",
    "#    Additionally; the docs on the Blast.Record provided the necessary information to be able to pull \n",
    "#    https://biopython.org/DIST/docs/api/Bio.Blast.Record-pysrc.html"
   ]
  },
  {
   "cell_type": "code",
   "execution_count": null,
   "metadata": {},
   "outputs": [],
   "source": [
    "# 1. Import necessary dependencies"
   ]
  },
  {
   "cell_type": "code",
   "execution_count": null,
   "metadata": {},
   "outputs": [],
   "source": [
    "# Leveraging biopython here as much as possible as they have pre-built wrappers for making these calls\n",
    "from Bio.Blast import NCBIWWW  # Make the API request\n",
    "from Bio.Blast import NCBIXML  # Parse the NCBI XML request body\n",
    "\n",
    "# Import pandas for data manipulation\n",
    "import pandas as pd"
   ]
  },
  {
   "cell_type": "code",
   "execution_count": null,
   "metadata": {},
   "outputs": [],
   "source": [
    "# 2. Load the Query File and Run the Blast"
   ]
  },
  {
   "cell_type": "code",
   "execution_count": null,
   "metadata": {},
   "outputs": [],
   "source": [
    "# Load the fasta file containing anchor sequences loaded into the current directory\n",
    "sequence_data = open(\"sequence.fasta\").read()\n",
    "# Inspect for good measure\n",
    "print(sequence_data)"
   ]
  },
  {
   "cell_type": "code",
   "execution_count": null,
   "metadata": {},
   "outputs": [],
   "source": [
    "# Perform the blast (This can take a while)\n",
    "result_handle = NCBIWWW.qblast(\"tblastx\", \"nt\", sequence_data) "
   ]
  },
  {
   "cell_type": "code",
   "execution_count": null,
   "metadata": {},
   "outputs": [],
   "source": [
    "# Save the results locally as an intermediate step as you can only read once using this function\n",
    "with open('results.xml', 'w') as save_file:\n",
    "    blast_results = result_handle.read() \n",
    "    save_file.write(blast_results)"
   ]
  },
  {
   "cell_type": "code",
   "execution_count": null,
   "metadata": {},
   "outputs": [],
   "source": [
    "# 3. Parse The Results From Blast"
   ]
  },
  {
   "cell_type": "code",
   "execution_count": null,
   "metadata": {},
   "outputs": [],
   "source": [
    "E_VALUE_THRESH = 1e-5 \n",
    "for i, record in enumerate(NCBIXML.parse(open(\"results.xml\"))): \n",
    "     if record.alignments: \n",
    "        query_name = record.query.split(\" \")[0]\n",
    "        # Clear lists to hold info\n",
    "        desc_dict_list = []\n",
    "        align_dict_list = []\n",
    "        # QUERY SEQUENCE IS KEY BECAUSE THESE ARE SUB TO QUERY SEQ's\n",
    "        # Parse relevant information from the description (bit score and e value for each hit)\n",
    "        for description in record.descriptions:\n",
    "            if description.e < E_VALUE_THRESH: \n",
    "                desc_dict_list.append({query_name + \"_e_value\":description.e,query_name + \"_bit_score\":description.bits,\"title\":description.title[:100].split(\"|\")[4],\"accession_key\":description.title[:100].split(\"|\")[3]})\n",
    "                # How do I track which query it goes to\n",
    "        # Parse relevant information from the alignments (namely start location on the contig  so we can use genomic context later)\n",
    "        for align in record.alignments: \n",
    "            for hsp in align.hsps: \n",
    "                if hsp.expect < E_VALUE_THRESH: \n",
    "                    align_dict_list.append({query_name + \"_subject_start\":hsp.sbjct_start,query_name + \"_length\":hsp.align_length,\"title\":align.title[:100].split(\"|\")[4]})\n",
    "        # if not the first sequence then merge the new pandas dataframe with the old one in order to create a master dataframe\n",
    "        if i == 0:\n",
    "            # Create pandas dataframe from information\n",
    "            df_blast_results = pd.merge(pd.DataFrame(desc_dict_list), pd.DataFrame(align_dict_list), on= \"title\",\n",
    "                     how =  'left').drop_duplicates(subset =\"title\", keep = 'first') \n",
    "        else:\n",
    "            # Create pandas dataframe from information\n",
    "            df_temp_results = pd.merge(pd.DataFrame(desc_dict_list), pd.DataFrame(align_dict_list), on=\"title\",\n",
    "                     how =  'left').drop_duplicates(subset =\"title\", keep = 'first') \n",
    "            df_blast_results = pd.merge(df_blast_results, df_temp_results, on=\"title\",how =  'outer')\n",
    "# LATER, IT WOULD BE GOOD TO PULL 10K OF SEQUENCES SURROUNDING, PULL PROTEINS FROM IT, AND THEN ALL-VS-ALL BLAST TO GROUP INTO SIMILAR ACTIVITIES/FAMILIES"
   ]
  },
  {
   "cell_type": "code",
   "execution_count": null,
   "metadata": {},
   "outputs": [],
   "source": [
    "df_blast_results"
   ]
  },
  {
   "cell_type": "code",
   "execution_count": null,
   "metadata": {},
   "outputs": [],
   "source": [
    "df_blast_results.sort_values(by=[query_name + \"_e_value\"])"
   ]
  },
  {
   "cell_type": "code",
   "execution_count": null,
   "metadata": {},
   "outputs": [],
   "source": []
  },
  {
   "cell_type": "code",
   "execution_count": null,
   "metadata": {},
   "outputs": [],
   "source": []
  },
  {
   "cell_type": "code",
   "execution_count": null,
   "metadata": {},
   "outputs": [],
   "source": []
  }
 ],
 "metadata": {
  "kernelspec": {
   "display_name": "Python 3 (biopython)",
   "language": "python",
   "name": "biopython"
  },
  "language_info": {
   "codemirror_mode": {
    "name": "ipython",
    "version": 3
   },
   "file_extension": ".py",
   "mimetype": "text/x-python",
   "name": "python",
   "nbconvert_exporter": "python",
   "pygments_lexer": "ipython3",
   "version": "3.6.7"
  }
 },
 "nbformat": 4,
 "nbformat_minor": 4
}
